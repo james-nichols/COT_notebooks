{
 "cells": [
  {
   "cell_type": "markdown",
   "metadata": {
    "collapsed": true
   },
   "source": [
    "# MATH3349 / 4349 Special Topics: Computational Optimal Transport\n",
    "\n",
    "## Assignment 1, part B: Optimal Transport with monotone rearrangment\n",
    "\n",
    "$\\newcommand{\\dotp}[2]{\\langle #1, #2 \\rangle}$\n",
    "$\\newcommand{\\enscond}[2]{\\lbrace #1, #2 \\rbrace}$\n",
    "$\\newcommand{\\pd}[2]{ \\frac{ \\partial #1}{\\partial #2} }$\n",
    "$\\newcommand{\\umin}[1]{\\underset{#1}{\\min}\\;}$\n",
    "$\\newcommand{\\umax}[1]{\\underset{#1}{\\max}\\;}$\n",
    "$\\newcommand{\\umin}[1]{\\underset{#1}{\\min}\\;}$\n",
    "$\\newcommand{\\uargmin}[1]{\\underset{#1}{argmin}\\;}$\n",
    "$\\newcommand{\\norm}[1]{\\|#1\\|}$\n",
    "$\\newcommand{\\abs}[1]{\\left|#1\\right|}$\n",
    "$\\newcommand{\\choice}[1]{ \\left\\{  \\begin{array}{l} #1 \\end{array} \\right. }$\n",
    "$\\newcommand{\\pa}[1]{\\left(#1\\right)}$\n",
    "$\\newcommand{\\diag}[1]{{diag}\\left( #1 \\right)}$\n",
    "$\\newcommand{\\qandq}{\\quad\\text{and}\\quad}$\n",
    "$\\newcommand{\\qwhereq}{\\quad\\text{where}\\quad}$\n",
    "$\\newcommand{\\qifq}{ \\quad \\text{if} \\quad }$\n",
    "$\\newcommand{\\qarrq}{ \\quad \\Longrightarrow \\quad }$\n",
    "$\\newcommand{\\ZZ}{\\mathbb{Z}}$\n",
    "$\\newcommand{\\CC}{\\mathbb{C}}$\n",
    "$\\newcommand{\\RR}{\\mathbb{R}}$\n",
    "$\\newcommand{\\EE}{\\mathbb{E}}$\n",
    "$\\newcommand{\\Zz}{\\mathcal{Z}}$\n",
    "$\\newcommand{\\Ww}{\\mathcal{W}}$\n",
    "$\\newcommand{\\Vv}{\\mathcal{V}}$\n",
    "$\\newcommand{\\Nn}{\\mathcal{N}}$\n",
    "$\\newcommand{\\NN}{\\mathcal{N}}$\n",
    "$\\newcommand{\\Hh}{\\mathcal{H}}$\n",
    "$\\newcommand{\\Bb}{\\mathcal{B}}$\n",
    "$\\newcommand{\\Ee}{\\mathcal{E}}$\n",
    "$\\newcommand{\\Cc}{\\mathcal{C}}$\n",
    "$\\newcommand{\\Gg}{\\mathcal{G}}$\n",
    "$\\newcommand{\\Ss}{\\mathcal{S}}$\n",
    "$\\newcommand{\\Pp}{\\mathcal{P}}$\n",
    "$\\newcommand{\\Ff}{\\mathcal{F}}$\n",
    "$\\newcommand{\\Xx}{\\mathcal{X}}$\n",
    "$\\newcommand{\\Mm}{\\mathcal{M}}$\n",
    "$\\newcommand{\\Ii}{\\mathcal{I}}$\n",
    "$\\newcommand{\\Dd}{\\mathcal{D}}$\n",
    "$\\newcommand{\\Ll}{\\mathcal{L}}$\n",
    "$\\newcommand{\\Tt}{\\mathcal{T}}$\n",
    "$\\newcommand{\\si}{\\sigma}$\n",
    "$\\newcommand{\\al}{\\alpha}$\n",
    "$\\newcommand{\\la}{\\lambda}$\n",
    "$\\newcommand{\\ga}{\\gamma}$\n",
    "$\\newcommand{\\Ga}{\\Gamma}$\n",
    "$\\newcommand{\\La}{\\Lambda}$\n",
    "$\\newcommand{\\si}{\\sigma}$\n",
    "$\\newcommand{\\Si}{\\Sigma}$\n",
    "$\\newcommand{\\be}{\\beta}$\n",
    "$\\newcommand{\\de}{\\delta}$\n",
    "$\\newcommand{\\De}{\\Delta}$\n",
    "$\\newcommand{\\phi}{\\varphi}$\n",
    "$\\newcommand{\\th}{\\theta}$\n",
    "$\\newcommand{\\om}{\\omega}$\n",
    "$\\newcommand{\\Om}{\\Omega}$"
   ]
  },
  {
   "cell_type": "markdown",
   "metadata": {},
   "source": [
    "This project we solve the discrete optimal transport problem \n",
    "problem (with measures that are sums of Diracs) using linear\n",
    "programming."
   ]
  },
  {
   "cell_type": "code",
   "execution_count": 5,
   "metadata": {},
   "outputs": [],
   "source": [
    "import numpy as np\n",
    "import scipy.optimize\n",
    "import scipy.sparse\n",
    "import matplotlib.pyplot as plt"
   ]
  },
  {
   "cell_type": "markdown",
   "metadata": {},
   "source": [
    "# Part 2: Discrete distributions in 1 dimension\n",
    "## Using monotone rearrangement\n",
    "\n",
    "Now we're going to look at computing the monotone rearrangement for an arbitrary 1 dimensional point cloud.\n",
    "\n",
    "We're doing this _after_ having considered the 2 dimensional problem as we can test our monotone rearrangement agains the calculation from the linear programming method.\n",
    "\n",
    "Let's define two point clouds in $\\RR$ and two vectors of weights. We'll then explicitly build the transport coupling using what we know. Again we have\n",
    "\n",
    "$$\n",
    "\\alpha = \\sum_{i=1}^n a_i \\delta_{x_i} \\quad\\text{and}\\quad \n",
    "\\beta = \\sum_{j=1}^m b_j \\delta_{y_j}\n",
    "$$"
   ]
  },
  {
   "cell_type": "code",
   "execution_count": 6,
   "metadata": {},
   "outputs": [],
   "source": [
    "n = 8\n",
    "m = 12"
   ]
  },
  {
   "cell_type": "code",
   "execution_count": 7,
   "metadata": {},
   "outputs": [],
   "source": [
    "np.random.seed(2)\n",
    "\n",
    "# Generate normally distributed, or sum of normally distributed points. \n",
    "X = np.random.randn(int(n))\n",
    "Y = np.concatenate((1. * np.random.randn(int(m/2)) + 3, 1.*np.random.randn(int(m/2)) + 5))\n",
    "\n",
    "a = np.random.random(n)\n",
    "a /= a.sum()\n",
    "b = np.random.random(m)\n",
    "b /= b.sum()"
   ]
  },
  {
   "cell_type": "markdown",
   "metadata": {},
   "source": [
    "A crucial step is to order the points spatially - which will make the calculation of inverse cumulatives easier. We label the cumulative density functions (CDFs) as ```a_cdf``` and ```b_cdf```, noting that we use the ```np.cumsum()```. We also make use of ```np.argsort```, which gives us the order to sort the ```X``` and ```Y``` vectors, which we can apply to ```a``` and ```b```."
   ]
  },
  {
   "cell_type": "code",
   "execution_count": 8,
   "metadata": {},
   "outputs": [],
   "source": [
    "X_sort = np.argsort(X)\n",
    "Y_sort = np.argsort(Y)\n",
    "\n",
    "X = X[X_sort]\n",
    "Y = Y[Y_sort]\n",
    "\n",
    "a = a[X_sort]\n",
    "a_cdf = a.cumsum()\n",
    "\n",
    "b = b[Y_sort]\n",
    "b_cdf = b.cumsum()"
   ]
  },
  {
   "cell_type": "markdown",
   "metadata": {},
   "source": [
    "Now let's have a look at the distributions and the corresponding cumulative density function (CDF)."
   ]
  },
  {
   "cell_type": "code",
   "execution_count": 9,
   "metadata": {},
   "outputs": [
    {
     "data": {
      "image/png": "[encoded data removed]",
      "text/plain": [
       "<Figure size 1080x720 with 2 Axes>"
      ]
     },
     "metadata": {
      "needs_background": "light"
     },
     "output_type": "display_data"
    }
   ],
   "source": [
    "# Nice colours\n",
    "c1 = '#2ca02c' # Forest green\n",
    "c2 = '#ff7f0e' # Burnt orange\n",
    "\n",
    "def nice_stem_plot(x, weight, col, alpha=None): \n",
    "    markerline, stemlines, baseline = plt.stem(x, weight, linefmt='-', markerfmt='o', basefmt='k-')\n",
    "    plt.setp(markerline, 'markerfacecolor', col, 'color', col, 'linewidth', 2, markersize=8)\n",
    "    plt.setp(stemlines, 'color', col)\n",
    "    baseline.set_xdata([0,1])\n",
    "    baseline.set_transform(plt.gca().get_yaxis_transform())\n",
    "    #plt.axis('off')\n",
    "\n",
    "def nice_cdf_plot(x, y, col, alpha=None):\n",
    "\n",
    "    plt.step(x, y, where='post', c=col, alpha=0.5)\n",
    "    \n",
    "    plt.scatter(x, y, color=col, s=50, zorder=2)\n",
    "    plt.scatter(x[1:], y[:-1], color='white', s=50, zorder=0, edgecolor=col)\n",
    "    \n",
    "    x_start = plt.xlim()[0]\n",
    "    x_end = plt.xlim()[1]\n",
    "    \n",
    "    plt.step([x_start, x[0]], [0, y[0]], where='post', c=col, alpha=0.5, zorder=0)\n",
    "    plt.step([x[-1], x_end], [y[-1], 1], where='pre', c=col, alpha=0.5, zorder=0)\n",
    "    \n",
    "plt.figure(figsize=(15, 10))\n",
    "\n",
    "ax = plt.subplot(2, 1, 1)\n",
    "ax.set_title('Density plot')\n",
    "nice_stem_plot(X, a, c1)\n",
    "nice_stem_plot(Y, b, c2)\n",
    "xlims = plt.xlim()\n",
    "\n",
    "ax = plt.subplot(2, 1, 2)\n",
    "ax.set_title('CDF')\n",
    "nice_cdf_plot(X, a_cdf, c1)\n",
    "nice_cdf_plot(Y, b_cdf, c2)\n",
    "\n",
    "plt.ylim([0., 1.])\n",
    "plt.xlim(xlims)\n",
    "\n",
    "plt.show()"
   ]
  },
  {
   "cell_type": "markdown",
   "metadata": {},
   "source": [
    "## Construct the monotone rearrangement plan\n",
    "\n",
    "Remember, it is possible, given two smooth densities $f$ and $g$ on $\\RR$, to define an optimal Monge map \n",
    "\n",
    "$$\n",
    "T(x) = G^{-1}\\circ F(x).\n",
    "$$\n",
    "\n",
    "However, we saw earlier in the course that two arbitrary discrete measures usually don't posess an optimal Monge map. Rather, they have a Kantorovic style coupling.\n",
    "\n",
    "The coupling takes a form that is somewhat similar to the map $T$ above. First define the cumulative density vector $A_i = \\sum_{k=0}^i a_k$ and similar for $B_i$. Note that we are indexing from $0$, to make things easier when translating to Python. We can also define a cumulative density _function_ \n",
    "\n",
    "$$\n",
    "A(x) = \\sum_{x_i \\le x} a_i = \\int_{-\\infty}^x \\sum_{i=0}^n a_i \\delta_{x_i} \\, dx\n",
    "$$\n",
    "\n",
    "and a generalised inverse\n",
    "\n",
    "$$\n",
    "A^{-1}(t) = \\inf \\{ x : A(x)  > t \\} = \\min \\{ n : t < \\sum_{k=0}^i a_k \\}.\n",
    "$$\n",
    "\n",
    "Through these generalised inverse it's possible for find a monotone rearrangement coupling that satisfies the notion that $B^{-1}(A(x_i)) = y_i$ and that the marginals hold.\n",
    "\n",
    "First we define a _cumulative_ coupling $Q$ of $P$, \n",
    "\n",
    "$$\n",
    "Q_{i, j} = \\sum_{k, \\ell = 0}^{i, j} P_{i, j}.\n",
    "$$\n",
    "\n",
    "Then as it happens, the cumulative density of the optimal coupling is simply \n",
    "\n",
    "$$\n",
    "Q^\\star_{i, j} = \\min \\{ A_i, B_j \\}\n",
    "$$\n",
    "\n",
    "from which we can find the optimal coupling $P^\\star$. For now I just leave this defined. As an exercise, you could check that this defines a monotone coupling for which the marginals hold.\n",
    "\n",
    "### TASK 5: Find $P^\\star$\n",
    "\n",
    "Implement this method, or something similar, below."
   ]
  },
  {
   "cell_type": "code",
   "execution_count": 16,
   "metadata": {},
   "outputs": [
    {
     "data": {
      "image/png": "[encoded data removed]",
      "text/plain": [
       "<Figure size 1080x432 with 2 Axes>"
      ]
     },
     "metadata": {
      "needs_background": "light"
     },
     "output_type": "display_data"
    }
   ],
   "source": [
    "P = np.zeros((n, m))\n",
    "\n",
    "# TODO: Calculate the optimal coupling P here\n",
    "\n",
    "plt.figure(figsize = (15,6))\n",
    "plt.imshow(P, cmap='Greys')\n",
    "plt.colorbar()\n",
    "plt.show()"
   ]
  },
  {
   "cell_type": "markdown",
   "metadata": {},
   "source": [
    "## Testing the monotone rearrangent coupling\n",
    "\n",
    "There are two ways we want to test that ```P``` is correct:\n",
    " 1. That the marginals are correct, i.e. $ P \\mathbb{1}_m = a $ and $P^T \\mathbb{1}_n = b$\n",
    " 2. That we obtain the same results with the linear programming approach\n",
    " 3. (Optional) again, test for cyclic monotonicity\n",
    "\n",
    "### TASK 6: Test the marginals of $P$\n",
    "\n",
    "In the box below, test that the marginals of $P$ agree with $a$ and $b$."
   ]
  },
  {
   "cell_type": "code",
   "execution_count": null,
   "metadata": {},
   "outputs": [],
   "source": []
  },
  {
   "cell_type": "markdown",
   "metadata": {},
   "source": [
    "### TASK 7: Implement the LP method for this 1d example\n",
    "\n",
    "Now we take to implementing the LP method in this case. Much of the code will be the same as in the 2 dimensional case, except for the distance matrix, which is given for you below.\n",
    "\n",
    "In the following cells, you have to build the ```A_eq``` and ```b_eq``` matrix as before, with the new dimensions."
   ]
  },
  {
   "cell_type": "code",
   "execution_count": 19,
   "metadata": {},
   "outputs": [],
   "source": [
    "def distance_matrix_1d(x, y, p=2):\n",
    "    return np.abs(x.T[:,np.newaxis] - y.T)**p\n",
    "\n",
    "C = distance_matrix_1d(X,Y)"
   ]
  },
  {
   "cell_type": "code",
   "execution_count": 564,
   "metadata": {},
   "outputs": [],
   "source": [
    "# TODO: Compute the S and T matrix with the dimensions n and m\n"
   ]
  },
  {
   "cell_type": "code",
   "execution_count": null,
   "metadata": {},
   "outputs": [],
   "source": [
    "# TODO: Build the arguments for the scipy.optimize.linprog routine and execute it\n",
    "\n",
    "results = scipy.optimize.linprog('''TASK: Fill in the arguments here ''')\n",
    "\n",
    "P_lp = results.x.reshape((n, m))\n",
    "\n",
    "primal_min = results.fun\n",
    "print(f'Optimal value / W_2 distance: {results.fun}')"
   ]
  },
  {
   "cell_type": "markdown",
   "metadata": {},
   "source": [
    "### TASK 8: Compare the results of the monotone rearrangement and the LP method\n",
    "\n",
    "For example, you could compare the plans graphically, or you could compute the $\\ell^2$ norm of the difference of the two plans."
   ]
  },
  {
   "cell_type": "code",
   "execution_count": null,
   "metadata": {},
   "outputs": [],
   "source": []
  },
  {
   "cell_type": "markdown",
   "metadata": {},
   "source": [
    "## What is the metric we calculate in these examples?\n",
    "\n",
    "As has been hinted before, what we are computing is the **Wasserstein metric**, which is what we call optimal transport in the specific case that $c(x, y) = \\| x - y \\|^p$, or in a more general metric space, $c(x, y) = d(x, y)^p$.\n",
    "\n",
    "Assuming that $c(x, y) = \\|x - y\\|^2$, we are computing the **Wasserstein-2 metric**:\n",
    "\n",
    "$$\n",
    "W_2^2 (a, b) = \\min_{P \\in U(a, b)} \\langle C, P \\rangle_F\n",
    "$$\n",
    "\n",
    "If we take our coupling/plan $P^\\star$ from either the explicit monotone rearrangement or the LP solver, we have $W^2_2 (a, b) = \\langle C, P^\\star \\rangle$, so both couplings if they are equal should give the same value, and furthermore their values should be the same as ```results.fun```, if we have ```results = scipy.optimize.linprog(...)```  above.\n"
   ]
  },
  {
   "cell_type": "code",
   "execution_count": null,
   "metadata": {},
   "outputs": [],
   "source": [
    "print(f'Monotone rearrangement: W^2_2(a, b) = \\t {((C * P).sum())}\\n')\n",
    "\n",
    "print(f'LP method: W^2_2(a, b) = \\t\\t {((C * P_lp).sum())}')"
   ]
  },
  {
   "cell_type": "code",
   "execution_count": null,
   "metadata": {},
   "outputs": [],
   "source": []
  }
 ],
 "metadata": {
  "anaconda-cloud": {},
  "kernelspec": {
   "display_name": "Python 3",
   "language": "python",
   "name": "python3"
  },
  "language_info": {
   "codemirror_mode": {
    "name": "ipython",
    "version": 3
   },
   "file_extension": ".py",
   "mimetype": "text/x-python",
   "name": "python",
   "nbconvert_exporter": "python",
   "pygments_lexer": "ipython3",
   "version": "3.8.9"
  }
 },
 "nbformat": 4,
 "nbformat_minor": 1
}
