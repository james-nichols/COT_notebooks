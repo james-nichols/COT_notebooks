{
 "cells": [
  {
   "cell_type": "markdown",
   "metadata": {
    "collapsed": true
   },
   "source": [
    "# MATH3349 / 4349 Special Topics: Computational Optimal Transport\n",
    "\n",
    "## Optimal Transport with the Network Simplex Method\n",
    "\n",
    "$\\newcommand{\\dotp}[2]{\\langle #1, #2 \\rangle}$\n",
    "$\\newcommand{\\enscond}[2]{\\lbrace #1, #2 \\rbrace}$\n",
    "$\\newcommand{\\pd}[2]{ \\frac{ \\partial #1}{\\partial #2} }$\n",
    "$\\newcommand{\\umin}[1]{\\underset{#1}{\\min}\\;}$\n",
    "$\\newcommand{\\umax}[1]{\\underset{#1}{\\max}\\;}$\n",
    "$\\newcommand{\\umin}[1]{\\underset{#1}{\\min}\\;}$\n",
    "$\\newcommand{\\uargmin}[1]{\\underset{#1}{argmin}\\;}$\n",
    "$\\newcommand{\\norm}[1]{\\|#1\\|}$\n",
    "$\\newcommand{\\abs}[1]{\\left|#1\\right|}$\n",
    "$\\newcommand{\\choice}[1]{ \\left\\{  \\begin{array}{l} #1 \\end{array} \\right. }$\n",
    "$\\newcommand{\\pa}[1]{\\left(#1\\right)}$\n",
    "$\\newcommand{\\diag}[1]{{diag}\\left( #1 \\right)}$\n",
    "$\\newcommand{\\qandq}{\\quad\\text{and}\\quad}$\n",
    "$\\newcommand{\\qwhereq}{\\quad\\text{where}\\quad}$\n",
    "$\\newcommand{\\qifq}{ \\quad \\text{if} \\quad }$\n",
    "$\\newcommand{\\qarrq}{ \\quad \\Longrightarrow \\quad }$\n",
    "$\\newcommand{\\ZZ}{\\mathbb{Z}}$\n",
    "$\\newcommand{\\CC}{\\mathbb{C}}$\n",
    "$\\newcommand{\\RR}{\\mathbb{R}}$\n",
    "$\\newcommand{\\EE}{\\mathbb{E}}$\n",
    "$\\newcommand{\\Zz}{\\mathcal{Z}}$\n",
    "$\\newcommand{\\Ww}{\\mathcal{W}}$\n",
    "$\\newcommand{\\Vv}{\\mathcal{V}}$\n",
    "$\\newcommand{\\Nn}{\\mathcal{N}}$\n",
    "$\\newcommand{\\NN}{\\mathcal{N}}$\n",
    "$\\newcommand{\\Hh}{\\mathcal{H}}$\n",
    "$\\newcommand{\\Bb}{\\mathcal{B}}$\n",
    "$\\newcommand{\\Ee}{\\mathcal{E}}$\n",
    "$\\newcommand{\\Cc}{\\mathcal{C}}$\n",
    "$\\newcommand{\\Gg}{\\mathcal{G}}$\n",
    "$\\newcommand{\\Ss}{\\mathcal{S}}$\n",
    "$\\newcommand{\\Pp}{\\mathcal{P}}$\n",
    "$\\newcommand{\\Ff}{\\mathcal{F}}$\n",
    "$\\newcommand{\\Xx}{\\mathcal{X}}$\n",
    "$\\newcommand{\\Mm}{\\mathcal{M}}$\n",
    "$\\newcommand{\\Ii}{\\mathcal{I}}$\n",
    "$\\newcommand{\\Dd}{\\mathcal{D}}$\n",
    "$\\newcommand{\\Ll}{\\mathcal{L}}$\n",
    "$\\newcommand{\\Tt}{\\mathcal{T}}$\n",
    "$\\newcommand{\\si}{\\sigma}$\n",
    "$\\newcommand{\\al}{\\alpha}$\n",
    "$\\newcommand{\\la}{\\lambda}$\n",
    "$\\newcommand{\\ga}{\\gamma}$\n",
    "$\\newcommand{\\Ga}{\\Gamma}$\n",
    "$\\newcommand{\\La}{\\Lambda}$\n",
    "$\\newcommand{\\si}{\\sigma}$\n",
    "$\\newcommand{\\Si}{\\Sigma}$\n",
    "$\\newcommand{\\be}{\\beta}$\n",
    "$\\newcommand{\\de}{\\delta}$\n",
    "$\\newcommand{\\De}{\\Delta}$\n",
    "$\\newcommand{\\phi}{\\varphi}$\n",
    "$\\newcommand{\\th}{\\theta}$\n",
    "$\\newcommand{\\om}{\\omega}$\n",
    "$\\newcommand{\\Om}{\\Omega}$"
   ]
  },
  {
   "cell_type": "markdown",
   "metadata": {},
   "source": [
    "This project we solve the discrete optimal transport problem \n",
    "problem with the network simplex update method. Although this will be a slower method than the linear programming approach, it will be instructive to consider."
   ]
  },
  {
   "cell_type": "code",
   "execution_count": 1,
   "metadata": {},
   "outputs": [],
   "source": [
    "import numpy as np\n",
    "import scipy.optimize\n",
    "import scipy.sparse\n",
    "import matplotlib.pyplot as plt"
   ]
  },
  {
   "cell_type": "markdown",
   "metadata": {},
   "source": [
    "Consider two dicrete distributions\n",
    "$$ \\al = \\sum_{i=1}^n a_i \\de_{x_i} \\qandq \n",
    "   \\be = \\sum_{j=1}^m b_j \\de_{y_j}. $$\n",
    "   \n",
    "where $n,m$ are the number of points, $\\de_x$ is the Dirac at\n",
    "location $x \\in \\RR^d$, and $(x_i)_i, (y_j)_j$ are the positions of the diracs in $\\RR^2$.\n",
    "\n",
    "First we set the number of points $(n,m)$ in the two clouds"
   ]
  },
  {
   "cell_type": "code",
   "execution_count": 2,
   "metadata": {},
   "outputs": [],
   "source": [
    "n = 6\n",
    "m = 8"
   ]
  },
  {
   "cell_type": "markdown",
   "metadata": {},
   "source": [
    "Generate the point clouds $X=(x_i)_i$ and $Y=(y_j)_j$. In this example we'll have two rows of points sitting opposite each other in lines. This example will _look_ a lot like a the bipartite graphs that we see in the literature. Note that this is just for convenience of visualising the algorithm! The algorithm works for just about any pair of discrete probability measures."
   ]
  },
  {
   "cell_type": "code",
   "execution_count": 3,
   "metadata": {},
   "outputs": [],
   "source": [
    "np.random.seed(2) # We set the random seed to get the same results each time we run this\n",
    "\n",
    "X = np.vstack((-0.25 * np.ones(n), np.linspace(1, -1, n)))\n",
    "Y = np.vstack((0.25 * np.ones(m), np.linspace(1, -1, m)))"
   ]
  },
  {
   "cell_type": "markdown",
   "metadata": {},
   "source": [
    "Generate the weights $a,b$. Note that we're going to generate three sub-sets of weights to ensure we get three separate trees in our NW corner rule forest."
   ]
  },
  {
   "cell_type": "code",
   "execution_count": 4,
   "metadata": {},
   "outputs": [
    {
     "name": "stdout",
     "output_type": "stream",
     "text": [
      "[0 2 5 6]\n",
      "[0 1 6 8]\n"
     ]
    }
   ],
   "source": [
    "normalize = lambda a: a/np.sum(a)\n",
    "\n",
    "num_sub_normalized = 3\n",
    "\n",
    "np.random.seed(0)\n",
    "a_thirds = np.sort(np.random.choice(np.arange(n), size=num_sub_normalized-1, replace=False))\n",
    "a_thirds = np.insert(a_thirds, [0,num_sub_normalized-1], [0,n])\n",
    "\n",
    "b_thirds = np.sort(np.random.choice(np.arange(m), size=num_sub_normalized-1, replace=False))\n",
    "b_thirds = np.insert(b_thirds, [0,num_sub_normalized-1], [0,m])\n",
    "\n",
    "print(a_thirds)\n",
    "print(b_thirds)\n",
    "\n",
    "a = np.zeros((n, 1))\n",
    "b = np.zeros((m, 1))\n",
    "\n",
    "sub_weights = normalize(np.random.rand(num_sub_normalized))\n",
    "\n",
    "for i in range(num_sub_normalized):\n",
    "    num_sub = a_thirds[i+1] - a_thirds[i]\n",
    "    a[a_thirds[i]:a_thirds[i+1],:] = sub_weights[i] * normalize(np.random.rand(num_sub, 1))\n",
    "\n",
    "    num_sub = b_thirds[i+1] - b_thirds[i]\n",
    "    b[b_thirds[i]:b_thirds[i+1],:] = sub_weights[i] * normalize(np.random.rand(num_sub, 1))\n",
    "    "
   ]
  },
  {
   "cell_type": "markdown",
   "metadata": {},
   "source": [
    "Helper function for display of point cloud measures."
   ]
  },
  {
   "cell_type": "code",
   "execution_count": 5,
   "metadata": {},
   "outputs": [],
   "source": [
    "# Nice colours\n",
    "c1 = '#2ca02c' # Forest green\n",
    "c2 = '#ff7f0e' # Burnt orange\n",
    "\n",
    "def myplot(x,y,weight,col,alpha=None): \n",
    "    plt.scatter(x,y, s=weight*20, edgecolors=\"k\", c=col, linewidths=1, alpha=alpha, zorder=1)"
   ]
  },
  {
   "cell_type": "markdown",
   "metadata": {},
   "source": [
    "Display the point clouds.\n",
    "The size of each dot is proportional to its probability density weight."
   ]
  },
  {
   "cell_type": "code",
   "execution_count": 6,
   "metadata": {},
   "outputs": [
    {
     "data": {
      "image/png": "[encoded data removed]",
      "text/plain": [
       "<Figure size 720x504 with 1 Axes>"
      ]
     },
     "metadata": {
      "needs_background": "light"
     },
     "output_type": "display_data"
    }
   ],
   "source": [
    "plt.figure(figsize = (10,7))\n",
    "plt.axis(\"off\")\n",
    "\n",
    "for i in range(len(a)):\n",
    "    myplot(X[0,i], X[1,i], a[i]*len(a)*10, c1)\n",
    "    \n",
    "for j in range(len(b)):\n",
    "    myplot(Y[0,j], Y[1,j], b[j]*len(b)*10, c2)\n",
    "    \n",
    "plt.show()"
   ]
  },
  {
   "cell_type": "markdown",
   "metadata": {},
   "source": [
    "We compute the cost matrix $C_{i,j} := \\norm{x_i-y_j}^p$ for whatever $p$ we want, but we will use $p=2$ by default."
   ]
  },
  {
   "cell_type": "code",
   "execution_count": 7,
   "metadata": {},
   "outputs": [],
   "source": [
    "def distance_matrix(x, y, p=2):\n",
    "    return np.linalg.norm(x.T[:,np.newaxis] - y.T, axis=-1)**p\n",
    "\n",
    "C = distance_matrix(X,Y)"
   ]
  },
  {
   "cell_type": "markdown",
   "metadata": {},
   "source": [
    "# Task 1: Implementing the NW Corner rule to make an extremal coupling P\n",
    "\n",
    "Follow the steps in section 3.4.2 of Peyré and Cuturi to find an extremal coupling.\n",
    "\n",
    "It would be helpful if you work through the indices ```i``` and ```j``` in increasing order (unlike in the video where I worked through the ```j``` index in reverse), for the sake of marking."
   ]
  },
  {
   "cell_type": "code",
   "execution_count": 8,
   "metadata": {},
   "outputs": [],
   "source": [
    "tol = 1e-14\n",
    "\n",
    "P = np.zeros((n, m))\n",
    "\n",
    "#\n",
    "#\n",
    "# FILL IN CODE HERE TO COMPUTE AN EXTREMAL COUPLING P\n",
    "#\n",
    "#"
   ]
  },
  {
   "cell_type": "markdown",
   "metadata": {},
   "source": [
    "### Plot the coupling\n",
    "\n",
    "We can plot the coupling graphically using lines with thickness proportional to the amount of mass transfer, and do a simple greyscale density plot as well."
   ]
  },
  {
   "cell_type": "code",
   "execution_count": 9,
   "metadata": {},
   "outputs": [
    {
     "data": {
      "image/png": "[encoded data removed]",
      "text/plain": [
       "<Figure size 720x504 with 1 Axes>"
      ]
     },
     "metadata": {
      "needs_background": "light"
     },
     "output_type": "display_data"
    },
    {
     "data": {
      "image/png": "[encoded data removed]",
      "text/plain": [
       "<Figure size 360x360 with 1 Axes>"
      ]
     },
     "metadata": {
      "needs_background": "light"
     },
     "output_type": "display_data"
    }
   ],
   "source": [
    "I, J = np.nonzero(P > tol)\n",
    "\n",
    "plt.figure(figsize = (10,7))\n",
    "plt.axis('off')\n",
    "\n",
    "for i in range(len(a)):\n",
    "    myplot(X[0,i], X[1,i], a[i]*len(a)*10, c1)\n",
    "for j in range(len(b)):\n",
    "    myplot(Y[0,j], Y[1,j], b[j]*len(b)*10, c2)\n",
    "    \n",
    "# Plot the lines between the points when there is a nonzero amount in the coupling between points\n",
    "# Note that in this plot, the lines are proportional to the amount of mass coupled from a to b.\n",
    "for k in range(len(I)):\n",
    "    h = plt.plot(np.hstack((X[0,I[k]],Y[0,J[k]])),np.hstack(([X[1,I[k]], Y[1,J[k]]])),'k', lw = 50*P[I[k], J[k]], alpha=0.4, zorder=0)\n",
    "plt.show()\n",
    "\n",
    "plt.figure(figsize = (5,5))\n",
    "plt.imshow(P, cmap='Greys')\n",
    "plt.show()"
   ]
  },
  {
   "cell_type": "markdown",
   "metadata": {},
   "source": [
    "# Testing the extremal plan.\n",
    "\n",
    "One helpful result is Proposition 3.4, which states that an extremal coupling has no cycles.\n",
    "\n",
    "So, although it's not _technically_ the case that a coupling ```P``` with no cycles is an extremal coupling, in most cases it's true. In any case, we're going to want to detect cycles later, so lets make a routine to test a graph for cycles.\n",
    "\n",
    "We do this through the graph adjacency matrix for ```P```, which we can easily generate by just writing\n",
    "\n",
    "``` G_adj = (P > tol)```\n",
    "\n",
    "This adjacency matrix takes values of either ```True``` or ```False```. The value ```G_adj[i, j]``` is ```True``` if there is some mas transfered from ```i``` to ```j```, i.e. that ```P[i,j] > 0```. Here however, we use our tolerance parameter ```tol```, as we may have values of ```P``` that are very close to 0. "
   ]
  },
  {
   "cell_type": "code",
   "execution_count": 10,
   "metadata": {},
   "outputs": [],
   "source": [
    "G_adj = (P > tol)"
   ]
  },
  {
   "cell_type": "markdown",
   "metadata": {},
   "source": [
    "# Task 2: Detect if ```P``` contains any cycles\n",
    "\n",
    "In the box below, fill out the details in ```detect_cycles(G_loc)```. We will use the convention that any variable used inside a function call has the ```_loc``` suffix (otherwise we can get namespace clashes in Jupyter). The only global variables we'll refer to are ```n```, ```m```, and ```C```.\n",
    "\n",
    "The method ```detect_cycles``` should return a list of pairs that are \n",
    "\n",
    "$$ \\large\n",
    "(i_1, j_1^\\prime), (j_1^\\prime, i_2), (i_2, j_2^\\prime), \\ldots, (i_\\ell, j_\\ell^\\prime), (j_\\ell^\\prime, i_1)\n",
    "$$\n",
    "\n",
    "so if ```cycle = detect_cycles(G_adj)``` returns a cycle, then ```cycle[0] = [i_1, j_1]```\n",
    "\n",
    "My suggestion is to implement this with a __recursive function__. That is, a function that calls itself. As our graph is quite small, we know the depth of recursion is not going to be too much. This is probably the easiest way to implement the method, although you are free to do it how you please.\n",
    "\n",
    "Something you can do (but don't have to) is something like the following pseudo-code:\n",
    "\n",
    "```\n",
    "step_forward(vertex, path_so_far):\n",
    "    \n",
    "    if vertex is in path_so_far:\n",
    "        # In this case we have found a cycle!\n",
    "    \n",
    "        return path_so_far\n",
    "        \n",
    "    else:\n",
    "        # We haven't found a cycle, so lets test every possible direction from here\n",
    "    \n",
    "        append vertex to path_so_far\n",
    "    \n",
    "        if there are other vertices connected to vertex:\n",
    "            \n",
    "            for each next_vertex connected to vertex:\n",
    "                # Note that you need to make sure that next_vertex\n",
    "                # is _not_ the previous vertex in the path....\n",
    "    \n",
    "                step_forward(next_vertex, path_so_far)\n",
    "                \n",
    "        else:\n",
    "            # In this case we've come to the end of a possible path without finding a cycle\n",
    "            # as the current vertex has no further connections.\n",
    "            \n",
    "            return None\n",
    "```\n",
    "\n"
   ]
  },
  {
   "cell_type": "code",
   "execution_count": 19,
   "metadata": {},
   "outputs": [],
   "source": [
    "\n",
    "    \n",
    "def detect_cycle(G_loc):\n",
    "\n",
    "    #\n",
    "    #\n",
    "    # FILL IN CODE HERE TO FIND A CYCLE IN G_loc\n",
    "    # If there is a cycle, return the cycle as a list of pairs\n",
    "    # If there is no cycle, return None\n",
    "    #\n",
    "    #\n",
    "    \n",
    "    pass\n",
    "    \n",
    "    "
   ]
  },
  {
   "cell_type": "markdown",
   "metadata": {},
   "source": [
    "### Now use this routine you coded to \n",
    "\n",
    "Check that the graph given by non-zero entries in ```P``` has no cycles using the routine you just wrote, and that the number of non-zero entries in ```P``` is $n+m-1$."
   ]
  },
  {
   "cell_type": "code",
   "execution_count": 12,
   "metadata": {},
   "outputs": [
    {
     "name": "stdout",
     "output_type": "stream",
     "text": [
      "Number of non-zero: 11 (n + m-1 = 13).\n",
      "\n",
      "No cycle detected in the coupling P\n"
     ]
    }
   ],
   "source": [
    "print(f'Number of non-zero: {len(P[P>tol])} (n + m-1 = {n + m-1}).\\n')\n",
    "\n",
    "if detect_cycle(G_adj):\n",
    "    print('Error: cycle detected in the coupling P')\n",
    "else:\n",
    "    print('No cycle detected in the coupling P')"
   ]
  },
  {
   "cell_type": "markdown",
   "metadata": {},
   "source": [
    "# Task 3: Obtaining a dual pair complimentary on the graph ```G_adj```\n",
    "\n",
    "Now follow the steps in Section 3.5.1 to build two functions (or rather, vectors) $f$ and $g$ that are complimentary to $P$ in the sense that\n",
    "\n",
    "$$\n",
    "f_i + g_j = C_{i, j}\n",
    "$$\n",
    "\n",
    "for any $i$ and $j$ where the vertices ```i``` and ```j``` are adjacent according to ```G_adj``` (which mostly is the case when```P[i,j] > 0```). To do this we have to step through the vertices as described on page 46 of Peyré and Cuturi.\n",
    "\n",
    "You should write your code in the function ```find_comp_pair(G_loc)```.\n",
    "\n",
    "My suggestion again is to implement this with a __recursive function__.\n",
    "\n",
    "If you make a recursive function, I would suggest having a function ```propogate_dual_soln``` that is called for a vertex, performs the calculation for ```f``` or ```g```, and then calls itself for each of the vertices the current one is connected to. This would end up similar to the way the ```step_forward``` function in the cycle detection algorithm would work."
   ]
  },
  {
   "cell_type": "code",
   "execution_count": 20,
   "metadata": {},
   "outputs": [],
   "source": [
    "\n",
    "def find_comp_pair(G_loc):\n",
    "    \n",
    "    #\n",
    "    #\n",
    "    # FILL IN THIS ROUTINE\n",
    "    #\n",
    "    #\n",
    "    \n",
    "    pass"
   ]
  },
  {
   "cell_type": "markdown",
   "metadata": {},
   "source": [
    "Now use the function ```find_comp_pair``` to find the complimentary pair ```f``` and ```g``` according the graph given by ```G_adj```."
   ]
  },
  {
   "cell_type": "code",
   "execution_count": null,
   "metadata": {},
   "outputs": [],
   "source": [
    "f, g = find_comp_pair(G_adj)"
   ]
  },
  {
   "cell_type": "markdown",
   "metadata": {},
   "source": [
    "# Find the flaw in our dual pair\n",
    "\n",
    "We have now generated two vectors $f \\in \\RR^n$ and $g \\in \\RR^m$ that are _complimentary_ to $P$ in the sense that $f_i + g_j = C_{i,j}$ _*if we know that $P_{i,j} > 0$*_.\n",
    "\n",
    "But there could be some pair $i, j$ for which $f_i + g_j > C_{i,j}$ when $P_{i,j} = 0$. Lets search the forest to find such a pair. This code is provided for you.\n",
    "\n",
    "You will use the routine ```find_nonfeas_edges``` in the later steps to improve the coupling with the network simplex method. First we create a handy plotting routine ```plot_and_diagnose``` to be able to display the results of the algorithm (which you can use for debugging in later steps)"
   ]
  },
  {
   "cell_type": "code",
   "execution_count": 15,
   "metadata": {},
   "outputs": [],
   "source": [
    "def plot_and_diagnose(f_loc, g_loc, P_loc, G_loc):\n",
    "\n",
    "    # Now we do a plot to see which ones aren't complimentary\n",
    "    plt.figure(figsize = (10,7))\n",
    "    plt.axis('off')\n",
    "\n",
    "    plt.text(X[0,0]-0.04, X[1,0] + 0.2, r'$f_i$', fontsize=14, horizontalalignment='center', verticalalignment='center')\n",
    "    plt.text(Y[0,0]+0.04, Y[1,0] + 0.2, r'$g_j$', fontsize=14,  horizontalalignment='center', verticalalignment='center')\n",
    "    for i in range(len(a)):\n",
    "        myplot(X[0,i], X[1,i], a[i]*len(a)*10, c1)\n",
    "        plt.text(X[0,i]-0.04, X[1,i], f'{f_loc[i]:.3f}', horizontalalignment='center', verticalalignment='center')\n",
    "\n",
    "    for j in range(len(b)):\n",
    "        myplot(Y[0,j], Y[1,j], b[j]*len(b)*10, c2)\n",
    "        plt.text(Y[0,j]+0.04, Y[1,j],  f'{g_loc[j]:.3f}', horizontalalignment='center', verticalalignment='center')\n",
    "\n",
    "    G_I, G_J = np.nonzero(G_loc)\n",
    "    for (i, j) in zip(G_I, G_J):\n",
    "        if P_loc[i,j] > tol:\n",
    "            plt.plot(np.hstack((X[0,i],Y[0,j])),np.hstack(([X[1,i], Y[1,j]])),'k', lw = 50*P_loc[i, j], alpha=0.4, zorder=0)\n",
    "        else:\n",
    "            # Then there is a connection made by the graph in the Newtork Simplex method...\n",
    "            plt.plot(np.hstack((X[0,i],Y[0,j])),np.hstack(([X[1,i], Y[1,j]])),'b', lw = 2, alpha=0.4, zorder=0)            \n",
    "\n",
    "    nonfeas_edges_loc = find_nonfeas_edges(f_loc, g_loc, C)\n",
    "    \n",
    "    offset = -np.ones(m)\n",
    "    for i,j in nonfeas_edges_loc:\n",
    "        # How many edges to the same point j are there (for text-offset purposes)\n",
    "        offset[j] += 1\n",
    "\n",
    "        plt.plot(np.hstack((X[0,i],Y[0,j])),np.hstack(([X[1,i], Y[1,j]])),'r', lw = 1, alpha=0.4, zorder=0)\n",
    "        plt.text(Y[0,j] + 0.2, Y[1,j] - offset[j]*0.08, rf'f[{i}] + g[{j}] = {f_loc[i]+g_loc[j]:.3f} > C[{i},{j}] = {C[i,j]:.3f}', c='r', fontsize=12, horizontalalignment='center', verticalalignment='center')\n",
    "\n",
    "    plt.show()"
   ]
  },
  {
   "cell_type": "markdown",
   "metadata": {},
   "source": [
    "### UPDATE 6/10/21\n",
    "\n",
    "Part of the problem I was having getting this solution to work is that the comparison\n",
    "\n",
    "$$ \\large\n",
    "f_i + g_j > C_{i,j}\n",
    "$$\n",
    "\n",
    "should in fact be\n",
    "\n",
    "$$ \\large\n",
    "f_i + g_j > C_{i,j} + \\epsilon\n",
    "$$\n",
    "\n",
    "to account for machine precision, where $\\epsilon$ is a small tolerance, here chosen to be ```tol``` once again."
   ]
  },
  {
   "cell_type": "code",
   "execution_count": 16,
   "metadata": {},
   "outputs": [
    {
     "name": "stdout",
     "output_type": "stream",
     "text": [
      "Edges [i,j] that are not complimentary: \n",
      "[[0, 1], [1, 1], [1, 2], [3, 6], [4, 6], [4, 7]]\n"
     ]
    },
    {
     "data": {
      "image/png": "[encoded data removed]",
      "text/plain": [
       "<Figure size 720x504 with 1 Axes>"
      ]
     },
     "metadata": {
      "needs_background": "light"
     },
     "output_type": "display_data"
    }
   ],
   "source": [
    "def find_nonfeas_edges(f, g, C):\n",
    "    nonfeas_edges = []\n",
    "    for i in range(n):\n",
    "        for j in range(m):\n",
    "            if f[i] + g[j] > C[i, j] + tol:\n",
    "                nonfeas_edges = nonfeas_edges + [[i,j]]\n",
    "    return nonfeas_edges\n",
    "\n",
    "nonfeas_edges = find_nonfeas_edges(f, g, C)    \n",
    "print(f'Edges [i,j] that are not complimentary: \\n{nonfeas_edges}')\n",
    "\n",
    "plot_and_diagnose(f, g, P, (P>tol))"
   ]
  },
  {
   "cell_type": "markdown",
   "metadata": {},
   "source": [
    "# Task 4: Use the Network Simplex method to refine the pair ```f``` and ```g```\n",
    "\n",
    "Work through the steps in section 3.5.2 of Peyré and Cuturi to refine the dual solutions ```f``` and ```g```. \n",
    "\n",
    "You will need to add edges to the graph. If you want to add an edge between vertex ```i``` and vertex ```j```, simply set ```G_adj[i,j] = True```.\n",
    "\n",
    "You will need to loop until there are _no more nonfeasible edges_, so we loop until ```len(nonfeas_edges) == 0```, which we do with a while-loop.\n",
    "\n",
    "At each iteration we add an edge, then call ```detect_cycle``` to detect any cycles in our plan. If there are, then we refine ```P``` accordingly and re-calculate ```f``` and ```g```. \n",
    "\n",
    "If there are no cycles, then, well, this step is unclear to me. I'll update this notebook when I've figured it out, but for now you can get started.\n",
    "\n",
    "### UPDATE 6/10/21\n",
    "\n",
    "I've managed to get this method working now.\n",
    "\n",
    "Pay attention to the statement in Section 3.53 that states \"If $\\theta=0$, which can happen if $G$ and $G(P)$ differ, the graph $G$ is simply changed, but $P$ is not.\n",
    " \n",
    " Effectively this means two things. Firstly, that if a cycle has been detected, say of the form\n",
    " \n",
    " $$ \\large\n",
    " (i_1, j_1^\\prime), (j_1^\\prime, i_2), (i_2, j_2^\\prime), (j_2^\\prime, i_3), \\ldots, (i_\\ell, j_\\ell^\\prime), (j_\\ell^\\prime, i_1)\n",
    " $$\n",
    " \n",
    " then it is important to note that\n",
    " \n",
    " $$\\large\n",
    " \\theta = \\min_k P_{i_{k+1}j_k}\n",
    " $$\n",
    " \n",
    " which is to say it is chosen from the right-to-left edges $\\large(j_k^\\prime, i_{k+1})$. Say the index $\\large k^\\star$ matches the minimisation above, then regardless of whether or not $\\theta$ is equal to 0, the edge $\\large (j_{k^\\star}^\\prime, i_{k^\\star+1})$ must be removed from the graph $G$. If the graph is given by the adjacency matrix ```G_adj``` and say ```i_star```$=i_{k^\\star+1}$ and ```j_star```$=j_{k^\\star}$ are the indices that match the minimisation to find $\\theta$, then we set\n",
    " \n",
    " ```\n",
    " G_adj[i_star, j_star] = False\n",
    " ```\n",
    " "
   ]
  },
  {
   "cell_type": "code",
   "execution_count": null,
   "metadata": {
    "scrolled": false
   },
   "outputs": [],
   "source": [
    "#\n",
    "#\n",
    "# FILL IN THIS CODE HERE. Make good use of the detect_cycle routine that you have built, the\n",
    "# find_nonfeas_edges routine above, and the find_comp_pair routine that you built above.\n",
    "#\n",
    "#"
   ]
  },
  {
   "cell_type": "markdown",
   "metadata": {},
   "source": [
    "# Now we test that the minimum cost we have acheived agrees with the LP solutions\n",
    "\n",
    "Assuming that your solutions are in the variables ```P```, ```f``` and ```g```, we can calculate the associated transport cost, and compare this with the LP solutions found, the code of which is given below.\n",
    "\n",
    "Run these next two cells to make sure your solution is correct. "
   ]
  },
  {
   "cell_type": "code",
   "execution_count": null,
   "metadata": {},
   "outputs": [],
   "source": [
    "def solve_OT_LP(a_loc, b_loc, C_loc):\n",
    "\n",
    "    n_loc = len(a_loc)\n",
    "    m_loc = len(b_loc)\n",
    "    \n",
    "    S = scipy.sparse.lil_matrix((n_loc, n_loc * m_loc), dtype=np.int8)\n",
    "    T = scipy.sparse.lil_matrix((m_loc, n_loc * m_loc), dtype=np.int8)\n",
    "\n",
    "    for i in range(n_loc):\n",
    "        S[i, i*m_loc:(i+1)*m_loc] = 1\n",
    "\n",
    "    for i in range(n_loc):\n",
    "        T[:, i*m_loc:(i+1)*m_loc] = scipy.sparse.eye(m_loc, format='lil')\n",
    "\n",
    "    A_eq = scipy.sparse.vstack([S, T])\n",
    "    b_eq = np.vstack([a_loc, b_loc])\n",
    "    c = C_loc.flatten()\n",
    "\n",
    "    results = scipy.optimize.linprog(c, A_ub=None, b_ub=None, A_eq=A_eq, b_eq=b_eq, options={'sparse':True})\n",
    "\n",
    "    P_loc = results.x.reshape((n_loc, m_loc))\n",
    "\n",
    "    primal_min = results.fun\n",
    "    return primal_min, P_loc\n",
    "\n",
    "def solve_OT_LP_dual(a_loc, b_loc, C_loc):\n",
    "    \n",
    "    n_loc = len(a_loc)\n",
    "    m_loc = len(b_loc)\n",
    "    \n",
    "    S = scipy.sparse.lil_matrix((n_loc, n_loc * m_loc), dtype=np.int8)\n",
    "    T = scipy.sparse.lil_matrix((m_loc, n_loc * m_loc), dtype=np.int8)\n",
    "\n",
    "    for i in range(n_loc):\n",
    "        S[i, i*m_loc:(i+1)*m_loc] = 1\n",
    "\n",
    "    for i in range(n_loc):\n",
    "        T[:, i*m_loc:(i+1)*m_loc] = scipy.sparse.eye(m_loc, format='lil')\n",
    "\n",
    "    # Check dual problem\n",
    "    c = -np.vstack([a_loc, b_loc])\n",
    "    A_ub = scipy.sparse.vstack([S, T]).T\n",
    "    b_ub = C.flatten()\n",
    "\n",
    "    results = scipy.optimize.linprog(c, A_ub=A_ub, b_ub=b_ub, bounds=(None, None), options={'sparse':True})\n",
    "\n",
    "    dual_min = -results.fun\n",
    "    \n",
    "    f_loc = results.x[:n_loc]\n",
    "    g_loc = results.x[n_loc:]\n",
    "\n",
    "    return dual_min, f_loc, g_loc"
   ]
  },
  {
   "cell_type": "code",
   "execution_count": null,
   "metadata": {},
   "outputs": [],
   "source": [
    "# These are the total costs for the transport plan from both P and f,g\n",
    "min_NS_primal = (P * C).sum()\n",
    "min_NS_dual = np.dot(f, a.flatten()) + np.dot(g, b.flatten())\n",
    "\n",
    "min_LP_primal, P_LP = solve_OT_LP(a, b, C)\n",
    "min_LP_dual, f_LP, g_LP = solve_OT_LP_dual(a, b, C)\n",
    "\n",
    "print(f'Minimum transport cost calculated using:')\n",
    "print(f'Network simplex method (primal):    {min_NS_primal:0.5e}')\n",
    "print(f'Network simplex method (dual):      {min_NS_dual:0.5e}')\n",
    "print(f'Linear programming method (primal): {min_LP_primal:0.5e}')\n",
    "print(f'Linear programming method (dual):   {min_LP_dual:0.5e}')\n",
    "\n",
    "fig = plt.figure(figsize = (10,5))\n",
    "plt.imshow(P - P_LP, cmap='Greys')\n",
    "plt.colorbar()\n",
    "plt.title(f'Difference of network simplex coupling and linear programming coupling')\n",
    "plt.show()\n",
    "\n",
    "print('Note that the dual variables are not necessarily the same. The can differ by a contstant on each sub tree\\n')\n",
    "print(f'{(f - f_LP) = }\\n')\n",
    "print(f'{(g - g_LP) = }')"
   ]
  },
  {
   "cell_type": "code",
   "execution_count": null,
   "metadata": {},
   "outputs": [],
   "source": []
  },
  {
   "cell_type": "code",
   "execution_count": null,
   "metadata": {},
   "outputs": [],
   "source": []
  },
  {
   "cell_type": "code",
   "execution_count": null,
   "metadata": {},
   "outputs": [],
   "source": []
  },
  {
   "cell_type": "code",
   "execution_count": null,
   "metadata": {},
   "outputs": [],
   "source": []
  },
  {
   "cell_type": "code",
   "execution_count": null,
   "metadata": {},
   "outputs": [],
   "source": []
  },
  {
   "cell_type": "markdown",
   "metadata": {},
   "source": [
    "# Note: simple example of a recursive function"
   ]
  },
  {
   "cell_type": "code",
   "execution_count": 4,
   "metadata": {},
   "outputs": [
    {
     "name": "stdout",
     "output_type": "stream",
     "text": [
      "24\n",
      "Factorial of 4 is = 4 * factorial of 3\n",
      "Factorial of 3 is = 3 * factorial of 2\n",
      "Factorial of 2 is = 2 * factorial of 1\n",
      "Factorial of 1 is 1\n",
      "24\n"
     ]
    }
   ],
   "source": [
    "# Compute factorial\n",
    "\n",
    "def factorial_with_loop(n):\n",
    "    result = 1\n",
    "    \n",
    "    for i in range(1, n+1):\n",
    "        result *= i\n",
    "        \n",
    "    return result\n",
    "\n",
    "def factorial_with_recursion(n):\n",
    "    \n",
    "    if n <= 1:\n",
    "        print('Factorial of 1 is 1')\n",
    "        return 1\n",
    "    else:\n",
    "        print(f'Factorial of {n} is = {n} * factorial of {n-1}')\n",
    "        return n * factorial_with_recursion(n-1)\n",
    "\n",
    "print(factorial_with_loop(4))\n",
    "print(factorial_with_recursion(4))"
   ]
  },
  {
   "cell_type": "code",
   "execution_count": null,
   "metadata": {},
   "outputs": [],
   "source": []
  }
 ],
 "metadata": {
  "anaconda-cloud": {},
  "kernelspec": {
   "display_name": "Python 3 (ipykernel)",
   "language": "python",
   "name": "python3"
  },
  "language_info": {
   "codemirror_mode": {
    "name": "ipython",
    "version": 3
   },
   "file_extension": ".py",
   "mimetype": "text/x-python",
   "name": "python",
   "nbconvert_exporter": "python",
   "pygments_lexer": "ipython3",
   "version": "3.9.7"
  }
 },
 "nbformat": 4,
 "nbformat_minor": 1
}
